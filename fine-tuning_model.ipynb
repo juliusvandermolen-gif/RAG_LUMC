{
 "cells": [
  {
   "metadata": {
    "ExecuteTime": {
     "end_time": "2025-04-28T16:42:23.955497Z",
     "start_time": "2025-04-28T16:42:23.950776Z"
    }
   },
   "cell_type": "code",
   "source": [
    "import gzip, csv, json, re, itertools, random, time\n",
    "from pathlib import Path\n",
    "\n",
    "import torch\n",
    "from torch.utils.data import DataLoader\n",
    "\n",
    "from sentence_transformers import models, SentenceTransformer, InputExample, losses, util\n",
    "\n",
    "import numpy as np\n",
    "import matplotlib.pyplot as plt\n",
    "\n",
    "SEED = 42\n",
    "random.seed(SEED)\n",
    "np.random.seed(SEED)\n",
    "torch.manual_seed(SEED)\n",
    "if torch.cuda.is_available():\n",
    "    torch.cuda.manual_seed_all(SEED)\n",
    "\n",
    "DATA_DIR      = Path(\"data/GSEA/external_gene_data/store!\")\n",
    "OUTPUT_DIR    = Path(\"output/model\")\n",
    "OUTPUT_DIR.mkdir(parents=True, exist_ok=True)\n",
    "\n",
    "GENE_FILE     = DATA_DIR / \"rat_genes_consolidated.txt.gz\"\n",
    "PATHWAY_FILE  = DATA_DIR / \"wikipathways_synonyms_Rattus_norvegicus.gmt.gz\"\n",
    "\n",
    "TRAIN_JSONL   = OUTPUT_DIR / \"train.jsonl\"\n",
    "VAL_JSONL     = OUTPUT_DIR / \"val.jsonl\"\n",
    "TEST_JSONL    = OUTPUT_DIR / \"test.jsonl\"\n",
    "\n",
    "BASE_MODEL    = \"michiyasunaga/BioLinkBERT-large\"\n",
    "OUTPUT_FOLDER = OUTPUT_DIR / \"biolinkbert-large-simcse-rat\"\n",
    "DEVICE        = \"cuda\" if torch.cuda.is_available() else \"cpu\"\n",
    "\n",
    "BATCH_SIZE     = 256\n",
    "EPOCHS         = 6\n",
    "LEARNING_RATE  = 3e-5\n",
    "WARMUP_RATIO   = 0.1\n"
   ],
   "id": "39ef37924b321eb4",
   "outputs": [],
   "execution_count": 6
  },
  {
   "metadata": {
    "ExecuteTime": {
     "end_time": "2025-04-28T16:42:26.376114Z",
     "start_time": "2025-04-28T16:42:24.404915Z"
    }
   },
   "cell_type": "code",
   "source": [
    "def add_pairs(pairs, texts):\n",
    "    \"\"\"Add all unique 2-combinations from texts as positive pairs.\"\"\"\n",
    "    texts = [t.strip() for t in texts if t and str(t).strip()]\n",
    "    for a, b in itertools.combinations(set(texts), 2):\n",
    "        pairs.append((a, b, 1))    # label=1 for positives\n",
    "\n",
    "pos_pairs = []\n",
    "with gzip.open(GENE_FILE, \"rt\") as fh:\n",
    "    rdr = csv.DictReader(fh)\n",
    "    for row in rdr:\n",
    "        add_pairs(pos_pairs, [\n",
    "            row[\"Gene stable ID\"],\n",
    "            row[\"Gene name\"],\n",
    "            row[\"Gene description\"]\n",
    "        ])\n",
    "\n",
    "bracket_re = re.compile(r\"\\[([^\\]]+)\\]\")\n",
    "with gzip.open(PATHWAY_FILE, \"rt\") as fh:\n",
    "    for line in fh:\n",
    "        if not line.strip():\n",
    "            continue\n",
    "        pathway = re.sub(r\"\\s+\", \" \", line.split(\"\\t\")[0]).strip()\n",
    "        for grp in bracket_re.findall(line):\n",
    "            syns = [g.strip() for g in grp.split(\",\") if g.strip()]\n",
    "            add_pairs(pos_pairs, syns)\n",
    "            for s in syns:\n",
    "                pos_pairs.append((pathway, s, 1))\n",
    "\n",
    "all_texts = list({t for a, b, _ in pos_pairs for t in (a, b)})\n",
    "\n",
    "pos_set = {(a, b) for a, b, _ in pos_pairs}\n",
    "\n",
    "neg_pairs = set()\n",
    "while len(neg_pairs) < len(pos_pairs):\n",
    "    a, b = random.sample(all_texts, 2)\n",
    "    if (a, b) in pos_set or (b, a) in pos_set:\n",
    "        continue\n",
    "    if (a, b) in neg_pairs or (b, a) in neg_pairs:\n",
    "        continue\n",
    "    neg_pairs.add((a, b))\n",
    "neg_pairs = [(a, b, 0) for a, b in neg_pairs]  # label=0\n",
    "\n",
    "all_pairs = pos_pairs + neg_pairs\n",
    "random.shuffle(all_pairs)\n",
    "\n",
    "N      = len(all_pairs)\n",
    "n_test = int(0.1 * N)\n",
    "n_rem  = N - n_test\n",
    "n_val  = n_rem // 9\n",
    "n_train= n_rem - n_val\n",
    "\n",
    "splits = {\n",
    "    \"train\": all_pairs[n_test + n_val:],\n",
    "    \"val\":   all_pairs[n_test: n_test + n_val],\n",
    "    \"test\":  all_pairs[:n_test],\n",
    "}\n",
    "\n",
    "for name, path in [(\"train\", TRAIN_JSONL),\n",
    "                   (\"val\",   VAL_JSONL),\n",
    "                   (\"test\",  TEST_JSONL)]:\n",
    "    path.parent.mkdir(parents=True, exist_ok=True)\n",
    "    with path.open(\"w\", encoding=\"utf-8\") as f:\n",
    "        for a, b, label in splits[name]:\n",
    "            json.dump({\"text1\": a, \"text2\": b, \"label\": label}, f, ensure_ascii=False)\n",
    "            f.write(\"\\n\")\n",
    "print(f\"✅ Train={len(splits['train']):,}  Val={len(splits['val']):,}  Test={len(splits['test']):,}\")"
   ],
   "id": "93f9e636cae01c43",
   "outputs": [
    {
     "name": "stdout",
     "output_type": "stream",
     "text": [
      "✅ Train=194,454  Val=24,306  Test=24,306\n"
     ]
    }
   ],
   "execution_count": 7
  },
  {
   "metadata": {
    "ExecuteTime": {
     "end_time": "2025-04-28T19:05:48.563484Z",
     "start_time": "2025-04-28T16:42:26.452803Z"
    }
   },
   "cell_type": "code",
   "source": [
    "train_data = [json.loads(l) for l in TRAIN_JSONL.open(\"r\", encoding=\"utf-8\")]\n",
    "val_data   = [json.loads(l) for l in VAL_JSONL.open(\"r\", encoding=\"utf-8\")]\n",
    "\n",
    "train_examples = [\n",
    "    InputExample(texts=[d[\"text1\"], d[\"text2\"]], label=d[\"label\"])\n",
    "    for d in train_data\n",
    "]\n",
    "val_examples = [\n",
    "    InputExample(texts=[d[\"text1\"], d[\"text2\"]], label=d[\"label\"])\n",
    "    for d in val_data\n",
    "]\n",
    "\n",
    "train_loader = DataLoader(train_examples,\n",
    "                          batch_size=BATCH_SIZE,\n",
    "                          shuffle=True,\n",
    "                          drop_last=True)\n",
    "val_loader   = DataLoader(val_examples,\n",
    "                          batch_size=BATCH_SIZE,\n",
    "                          shuffle=False,\n",
    "                          drop_last=False)\n",
    "\n",
    "# Build SBERT model\n",
    "word_model = models.Transformer(BASE_MODEL, max_seq_length=128)\n",
    "word_model.auto_model.gradient_checkpointing_enable()\n",
    "pooling = models.Pooling(word_model.get_word_embedding_dimension(),\n",
    "                         pooling_mode_mean_tokens=True)\n",
    "model = SentenceTransformer(modules=[word_model, pooling], device=DEVICE)\n",
    "\n",
    "loss = losses.ContrastiveLoss(model=model)\n",
    "\n",
    "# Train\n",
    "total_steps = len(train_loader) * EPOCHS\n",
    "warmup_steps = int(WARMUP_RATIO * total_steps)\n",
    "\n",
    "model.fit(\n",
    "    train_objectives=[(train_loader, loss)],\n",
    "    epochs=EPOCHS,\n",
    "    optimizer_params={\"lr\": LEARNING_RATE},\n",
    "    warmup_steps=warmup_steps,\n",
    "    output_path=str(OUTPUT_FOLDER),\n",
    "    show_progress_bar=True\n",
    ")"
   ],
   "id": "16d916e19846ea9f",
   "outputs": [
    {
     "data": {
      "text/plain": [
       "Computing widget examples:   0%|          | 0/1 [00:00<?, ?example/s]"
      ],
      "application/vnd.jupyter.widget-view+json": {
       "version_major": 2,
       "version_minor": 0,
       "model_id": "9fdc0db0d1f1428498c146b08cfd4ba4"
      }
     },
     "metadata": {},
     "output_type": "display_data"
    },
    {
     "data": {
      "text/plain": [
       "<IPython.core.display.HTML object>"
      ],
      "text/html": [
       "\n",
       "    <div>\n",
       "      \n",
       "      <progress value='4554' max='4554' style='width:300px; height:20px; vertical-align: middle;'></progress>\n",
       "      [4554/4554 2:23:15, Epoch 6/6]\n",
       "    </div>\n",
       "    <table border=\"1\" class=\"dataframe\">\n",
       "  <thead>\n",
       " <tr style=\"text-align: left;\">\n",
       "      <th>Step</th>\n",
       "      <th>Training Loss</th>\n",
       "    </tr>\n",
       "  </thead>\n",
       "  <tbody>\n",
       "    <tr>\n",
       "      <td>500</td>\n",
       "      <td>0.029500</td>\n",
       "    </tr>\n",
       "    <tr>\n",
       "      <td>1000</td>\n",
       "      <td>0.020500</td>\n",
       "    </tr>\n",
       "    <tr>\n",
       "      <td>1500</td>\n",
       "      <td>0.018500</td>\n",
       "    </tr>\n",
       "    <tr>\n",
       "      <td>2000</td>\n",
       "      <td>0.018000</td>\n",
       "    </tr>\n",
       "    <tr>\n",
       "      <td>2500</td>\n",
       "      <td>0.017400</td>\n",
       "    </tr>\n",
       "    <tr>\n",
       "      <td>3000</td>\n",
       "      <td>0.017000</td>\n",
       "    </tr>\n",
       "    <tr>\n",
       "      <td>3500</td>\n",
       "      <td>0.016500</td>\n",
       "    </tr>\n",
       "    <tr>\n",
       "      <td>4000</td>\n",
       "      <td>0.016300</td>\n",
       "    </tr>\n",
       "    <tr>\n",
       "      <td>4500</td>\n",
       "      <td>0.016100</td>\n",
       "    </tr>\n",
       "  </tbody>\n",
       "</table><p>"
      ]
     },
     "metadata": {},
     "output_type": "display_data"
    }
   ],
   "execution_count": 8
  },
  {
   "metadata": {
    "ExecuteTime": {
     "end_time": "2025-04-28T19:19:15.397582Z",
     "start_time": "2025-04-28T19:18:28.147240Z"
    }
   },
   "cell_type": "code",
   "source": [
    "test_data = [json.loads(l) for l in TEST_JSONL.open(\"r\", encoding=\"utf-8\")]\n",
    "sample_size = min(20000, len(test_data))\n",
    "sampled = random.sample(test_data, sample_size)\n",
    "t1     = [d['text1'] for d in sampled]\n",
    "t2     = [d['text2'] for d in sampled]\n",
    "labels = np.array([d['label'] for d in sampled])\n",
    "\n",
    "word_model_base = models.Transformer(BASE_MODEL, max_seq_length=128)\n",
    "word_model_base.auto_model.gradient_checkpointing_enable()\n",
    "pool_base = models.Pooling(word_model_base.get_word_embedding_dimension(),\n",
    "                           pooling_mode_mean_tokens=True)\n",
    "base_model = SentenceTransformer(modules=[word_model_base, pool_base], device=DEVICE)\n",
    "fine_model = SentenceTransformer(str(OUTPUT_FOLDER), device=DEVICE)\n",
    "\n",
    "batch_size_encode = 128\n",
    "emb_b1 = base_model.encode(t1, batch_size=batch_size_encode,\n",
    "                           convert_to_tensor=True, show_progress_bar=True)\n",
    "emb_b2 = base_model.encode(t2, batch_size=batch_size_encode,\n",
    "                           convert_to_tensor=True, show_progress_bar=False)\n",
    "emb_f1 = fine_model.encode(t1, batch_size=batch_size_encode,\n",
    "                           convert_to_tensor=True, show_progress_bar=False)\n",
    "emb_f2 = fine_model.encode(t2, batch_size=batch_size_encode,\n",
    "                           convert_to_tensor=True, show_progress_bar=False)\n",
    "\n",
    "sims = {\n",
    "    'Base':       util.cos_sim(emb_b1, emb_b2).diag().cpu().numpy(),\n",
    "    'Fine-tuned': util.cos_sim(emb_f1, emb_f2).diag().cpu().numpy()\n",
    "}\n",
    "\n",
    "for name, arr in sims.items():\n",
    "    true_vals  = arr[labels == 1]\n",
    "    false_vals = arr[labels == 0]\n",
    "    fig, ax = plt.subplots(figsize=(6, 6))\n",
    "    ax.violinplot([true_vals, false_vals], showmeans=True, showmedians=True)\n",
    "    ax.set_title(f\"{name} Similarity Distribution (n={sample_size})\")\n",
    "    ax.set_xticks([1, 2]); ax.set_xticklabels([\"True\", \"False\"])\n",
    "    ax.set_ylabel(\"Cosine similarity\")\n",
    "    ax.grid(True, axis=\"y\", linestyle=\"--\", alpha=0.6)\n",
    "    ax.set_ylim(-0.1, 1.1)\n",
    "    plt.tight_layout()\n",
    "    # Save figure using the number of epochs in filename\n",
    "    save_path = OUTPUT_DIR/ \"PNG\" / f\"{name.lower()}_{EPOCHS}_epochs.png\"\n",
    "    fig.savefig(save_path)\n",
    "    print(f\"Saved plot to {save_path}\")\n",
    "    plt.show()"
   ],
   "id": "8ff4464c407264a2",
   "outputs": [
    {
     "data": {
      "text/plain": [
       "Batches:   0%|          | 0/157 [00:00<?, ?it/s]"
      ],
      "application/vnd.jupyter.widget-view+json": {
       "version_major": 2,
       "version_minor": 0,
       "model_id": "387b315101c7488aa6ee067a89602272"
      }
     },
     "metadata": {},
     "output_type": "display_data"
    },
    {
     "name": "stdout",
     "output_type": "stream",
     "text": [
      "Saved plot to output\\model\\PNG\\base_6_epochs.png\n"
     ]
    },
    {
     "data": {
      "text/plain": [
       "<Figure size 600x600 with 1 Axes>"
      ],
      "image/png": "[encoded data removed]"
     },
     "metadata": {},
     "output_type": "display_data"
    },
    {
     "name": "stdout",
     "output_type": "stream",
     "text": [
      "Saved plot to output\\model\\PNG\\fine-tuned_6_epochs.png\n"
     ]
    },
    {
     "data": {
      "text/plain": [
       "<Figure size 600x600 with 1 Axes>"
      ],
      "image/png": "[encoded data removed]"
     },
     "metadata": {},
     "output_type": "display_data"
    }
   ],
   "execution_count": 14
  },
  {
   "metadata": {
    "ExecuteTime": {
     "end_time": "2025-04-28T19:14:24.216433Z",
     "start_time": "2025-04-28T19:14:24.213736Z"
    }
   },
   "cell_type": "code",
   "source": "BASE_MODEL",
   "id": "247a434ff4902fc0",
   "outputs": [
    {
     "data": {
      "text/plain": [
       "'michiyasunaga/BioLinkBERT-large'"
      ]
     },
     "execution_count": 12,
     "metadata": {},
     "output_type": "execute_result"
    }
   ],
   "execution_count": 12
  },
  {
   "metadata": {
    "jupyter": {
     "is_executing": true
    },
    "ExecuteTime": {
     "start_time": "2025-04-28T19:41:40.738790Z"
    }
   },
   "cell_type": "code",
   "source": [
    "from huggingface_hub import HfApi\n",
    "import os\n",
    "api = HfApi(token=os.getenv(\"HF_TOKEN\"))\n",
    "api.upload_folder(\n",
    "    folder_path=\"./output/model/biolinkbert-large-simcse-rat\",\n",
    "    repo_id=\"mghuibregtse/biolinkbert-large-simcse-rat\",\n",
    "    repo_type=\"model\",\n",
    ")\n"
   ],
   "id": "6ee4edd1e46915a7",
   "outputs": [
    {
     "data": {
      "text/plain": [
       "model.safetensors:   0%|          | 0.00/1.33G [00:00<?, ?B/s]"
      ],
      "application/vnd.jupyter.widget-view+json": {
       "version_major": 2,
       "version_minor": 0,
       "model_id": "2329bd6da2a941c3a4428807921ea752"
      }
     },
     "metadata": {},
     "output_type": "display_data"
    }
   ],
   "execution_count": null
  }
 ],
 "metadata": {
  "kernelspec": {
   "display_name": "Python 3",
   "language": "python",
   "name": "python3"
  },
  "language_info": {
   "codemirror_mode": {
    "name": "ipython",
    "version": 2
   },
   "file_extension": ".py",
   "mimetype": "text/x-python",
   "name": "python",
   "nbconvert_exporter": "python",
   "pygments_lexer": "ipython2",
   "version": "2.7.6"
  }
 },
 "nbformat": 4,
 "nbformat_minor": 5
}

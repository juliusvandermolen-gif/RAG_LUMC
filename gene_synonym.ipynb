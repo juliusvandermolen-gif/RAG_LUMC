{
 "cells": [
  {
   "cell_type": "code",
   "id": "initial_id",
   "metadata": {
    "collapsed": true,
    "ExecuteTime": {
     "end_time": "2024-10-09T12:47:41.892281Z",
     "start_time": "2024-10-09T12:47:41.170126Z"
    }
   },
   "source": [
    "import pandas as pd\n",
    "import json\n",
    "import os\n",
    "import gzip"
   ],
   "outputs": [],
   "execution_count": 1
  },
  {
   "metadata": {
    "ExecuteTime": {
     "end_time": "2024-10-09T12:47:41.922421Z",
     "start_time": "2024-10-09T12:47:41.915569Z"
    }
   },
   "cell_type": "code",
   "source": [
    "os.chdir('./Data/biomart')\n",
    "print(os.getcwd())"
   ],
   "id": "a10fa55cc995c658",
   "outputs": [
    {
     "name": "stdout",
     "output_type": "stream",
     "text": [
      "C:\\RAG_LUMC\\Data\\biomart\n"
     ]
    }
   ],
   "execution_count": 2
  },
  {
   "metadata": {
    "ExecuteTime": {
     "end_time": "2024-10-09T12:47:48.021816Z",
     "start_time": "2024-10-09T12:47:42.320161Z"
    }
   },
   "cell_type": "code",
   "source": [
    "%%bash\n",
    "bash reorder_mart.sh"
   ],
   "id": "e7e4de53d148403e",
   "outputs": [],
   "execution_count": 3
  },
  {
   "metadata": {
    "ExecuteTime": {
     "end_time": "2024-10-09T12:47:50.560176Z",
     "start_time": "2024-10-09T12:47:50.556376Z"
    }
   },
   "cell_type": "code",
   "source": "os.chdir('../..')",
   "id": "3c1ffdd6f55f6feb",
   "outputs": [],
   "execution_count": 4
  },
  {
   "metadata": {
    "ExecuteTime": {
     "end_time": "2024-10-09T12:47:51.187371Z",
     "start_time": "2024-10-09T12:47:51.182521Z"
    }
   },
   "cell_type": "code",
   "source": "print(os.getcwd())",
   "id": "28325f30360eaeda",
   "outputs": [
    {
     "name": "stdout",
     "output_type": "stream",
     "text": [
      "C:\\RAG_LUMC\n"
     ]
    }
   ],
   "execution_count": 5
  },
  {
   "metadata": {
    "ExecuteTime": {
     "end_time": "2024-10-09T12:47:53.517263Z",
     "start_time": "2024-10-09T12:47:51.666392Z"
    }
   },
   "cell_type": "code",
   "source": [
    "\n",
    "\n",
    "input_file = './Data/biomart/to_be_converted/wikipathways-20240910-gmt-Homo_sapiens.gmt'\n",
    "output_file = './Data/biomart/to_be_converted/converted_wikipathways-20240910-gmt-Homo_sapiens.gmt'\n",
    "json_file = './Data/JSON/ncbi_id_to_symbol.json'\n",
    "\n",
    "# Load the gene ID to symbol dictionary from JSON\n",
    "with open(json_file, 'r') as f:\n",
    "    gene_dict = json.load(f)\n",
    "\n",
    "# Read the GMT input file\n",
    "columns = ['header', 'url'] + [f'gene_{i}' for i in range(1000)]  \n",
    "df = pd.read_csv(input_file, sep='\\t', header=None, names=columns, engine='python', dtype=str, na_filter=False)\n",
    "\n",
    "# Function to replace gene IDs with symbols\n",
    "def replace_gene_ids(gene_id):\n",
    "    return gene_dict.get(gene_id, gene_id)\n",
    "\n",
    "# Apply replacement function to gene columns\n",
    "gene_columns = df.columns[2:]\n",
    "for col in gene_columns:\n",
    "    df[col] = df[col].apply(replace_gene_ids)\n",
    "\n",
    "# Remove empty columns (if all values in a column are empty strings)\n",
    "df = df.loc[:, (df != '').any(axis=0)]\n",
    "\n",
    "# Remove empty rows for gene columns to prevent excess line breaks\n",
    "df = df.apply(lambda x: x.dropna().tolist(), axis=1).apply(pd.Series)\n",
    "\n",
    "# Save to the output file without excess newlines\n",
    "df.to_csv(output_file, sep='\\t', header=False, index=False, lineterminator='\\n')\n",
    "\n",
    "print(f'File conversion completed! Output saved to {output_file}')\n"
   ],
   "id": "47336cb2fad4f985",
   "outputs": [
    {
     "name": "stdout",
     "output_type": "stream",
     "text": [
      "File conversion completed! Output saved to ./Data/biomart/to_be_converted/converted_wikipathways-20240910-gmt-Homo_sapiens.gmt\n"
     ]
    }
   ],
   "execution_count": 6
  },
  {
   "metadata": {
    "ExecuteTime": {
     "end_time": "2024-10-09T12:47:53.541233Z",
     "start_time": "2024-10-09T12:47:53.532195Z"
    }
   },
   "cell_type": "code",
   "source": [
    "input_file = './Data/biomart/to_be_converted/reordered_mart_export_2.txt.gz'  \n",
    "output_json = './Data/JSON/genes.json' \n",
    "output_file = './Data/biomart/genes_consolidated.txt.gz'"
   ],
   "id": "af13d65d29829a49",
   "outputs": [],
   "execution_count": 7
  },
  {
   "metadata": {
    "ExecuteTime": {
     "end_time": "2024-10-09T12:47:59.398670Z",
     "start_time": "2024-10-09T12:47:53.675954Z"
    }
   },
   "cell_type": "code",
   "source": [
    "def ensure_dir(file_path):\n",
    "    directory = os.path.dirname(file_path)\n",
    "    if directory and not os.path.exists(directory):\n",
    "        os.makedirs(directory)\n",
    "        print(f\"Created directory: {directory}\")\n",
    "\n",
    "ensure_dir(output_json)\n",
    "ensure_dir(output_file)\n",
    "\n",
    "df = pd.read_csv(input_file, compression='gzip')\n",
    "print(f\"Successfully read input file: {input_file}\")\n",
    "\n",
    "df['Gene Synonym'] = df['Gene Synonym'].fillna('').astype(str).str.strip()\n",
    "\n",
    "df['Gene stable ID'] = df['Gene stable ID'].str.strip().str.upper()\n",
    "\n",
    "unique_gene_ids = df['Gene stable ID'].nunique()\n",
    "print(f\"Number of unique 'Gene stable ID's: {unique_gene_ids}\")\n",
    "\n",
    "grouped = df.groupby('Gene stable ID').agg({\n",
    "    'Gene name': 'first',\n",
    "    'Gene description': 'first',\n",
    "    'Gene Synonym': lambda x: sorted(filter(None, x.unique())),\n",
    "    'NCBI gene (formerly Entrezgene) description': 'first',\n",
    "    'NCBI gene (formerly Entrezgene) ID': 'first'\n",
    "}).reset_index()\n",
    "\n",
    "grouped.rename(columns={'Gene Synonym': 'Gene Synonyms'}, inplace=True)\n",
    "\n",
    "grouped['Gene Synonyms'] = grouped['Gene Synonyms'].apply(lambda x: f\"[{'_'.join(x)}]\" if x else \"[]\")\n",
    "\n",
    "consolidated_entries = grouped.shape[0]\n",
    "print(f\"Number of consolidated entries: {consolidated_entries}\")\n",
    "\n",
    "if consolidated_entries != unique_gene_ids:\n",
    "    print(\"Warning: The number of consolidated entries does not match the number of unique 'Gene stable ID's.\")\n",
    "    print(f\"Unique 'Gene stable ID's: {unique_gene_ids}, Consolidated entries: {consolidated_entries}\")\n",
    "else:\n",
    "    print(\"Success: The number of consolidated entries matches the number of unique 'Gene stable ID's.\")\n",
    "\n",
    "genes_list = grouped.to_dict(orient='records')\n",
    "\n",
    "with open(output_json, 'w', encoding='utf-8') as f_json:\n",
    "    json.dump(genes_list, f_json, indent=4)\n",
    "print(f\"Consolidated JSON data has been saved to '{output_json}'.\")\n",
    "\n",
    "ordered_columns = [\n",
    "    'Gene stable ID',\n",
    "    'Gene name',\n",
    "    'Gene description',\n",
    "    'Gene Synonyms',\n",
    "    'NCBI gene (formerly Entrezgene) description',\n",
    "    'NCBI gene (formerly Entrezgene) ID'\n",
    "]\n",
    "\n",
    "missing_columns = set(ordered_columns) - set(grouped.columns)\n",
    "if missing_columns:\n",
    "    print(f\"Error: Missing columns in the DataFrame: {missing_columns}\")\n",
    "    exit(1)\n",
    "\n",
    "grouped_ordered = grouped[ordered_columns]\n",
    "\n",
    "grouped_ordered.to_csv(output_file, index=False, sep=',', compression='gzip')\n",
    "print(f\"Consolidated TXT.GZ data has been saved to '{output_file}'.\")\n"
   ],
   "id": "fbc0088bb1a7e543",
   "outputs": [
    {
     "name": "stdout",
     "output_type": "stream",
     "text": [
      "Successfully read input file: ./Data/biomart/to_be_converted/reordered_mart_export_2.txt.gz\n",
      "Number of unique 'Gene stable ID's: 70611\n",
      "Number of consolidated entries: 70611\n",
      "Success: The number of consolidated entries matches the number of unique 'Gene stable ID's.\n",
      "Consolidated JSON data has been saved to './Data/JSON/genes.json'.\n",
      "Consolidated TXT.GZ data has been saved to './Data/biomart/genes_consolidated.txt.gz'.\n"
     ]
    }
   ],
   "execution_count": 8
  },
  {
   "metadata": {
    "ExecuteTime": {
     "end_time": "2024-10-09T12:47:59.409874Z",
     "start_time": "2024-10-09T12:47:59.404804Z"
    }
   },
   "cell_type": "code",
   "source": [
    "genes_json_path = './Data/JSON/genes.json'  \n",
    "input_gmt_path = './Data/biomart/to_be_converted/converted_wikipathways-20240910-gmt-Homo_sapiens.gmt'  \n",
    "output_gmt_path = './Data/biomart/wikipathways_synonyms_Homo_sapiens.gmt.gz' "
   ],
   "id": "7b41694328b7e1ee",
   "outputs": [],
   "execution_count": 9
  },
  {
   "metadata": {
    "ExecuteTime": {
     "end_time": "2024-10-09T12:48:00.112086Z",
     "start_time": "2024-10-09T12:47:59.451237Z"
    }
   },
   "cell_type": "code",
   "source": [
    "ensure_dir(output_gmt_path)\n",
    "\n",
    "# Load genes data\n",
    "with open(genes_json_path, 'r', encoding='utf-8') as f_json:\n",
    "    genes_data = json.load(f_json)\n",
    "\n",
    "# Create gene to synonyms mapping\n",
    "gene_to_synonyms = {}\n",
    "for entry in genes_data:\n",
    "    gene_name = entry.get('Gene name')\n",
    "    if gene_name is None:\n",
    "        continue\n",
    "    gene_name = gene_name.strip()\n",
    "    \n",
    "    synonyms_str = entry.get('Gene Synonyms') or ''\n",
    "    synonyms_str = synonyms_str.strip()\n",
    "    if synonyms_str.startswith('[') and synonyms_str.endswith(']'):\n",
    "        synonyms_str = synonyms_str[1:-1]\n",
    "    \n",
    "    synonyms = synonyms_str.split('_') if synonyms_str else []\n",
    "    synonyms = [syn.strip() for syn in synonyms if syn.strip()]\n",
    "    \n",
    "    gene_to_synonyms[gene_name] = synonyms\n",
    "\n",
    "print(f\"Loaded {len(gene_to_synonyms)} genes with synonyms.\")\n",
    "\n",
    "# Process GMT file and save as .gmt.gz\n",
    "def process_gmt(input_path, output_path, gene_synonyms_map):\n",
    "    with open(input_path, 'r', encoding='utf-8') as infile, gzip.open(output_path, 'wt', encoding='utf-8') as outfile:\n",
    "        for line_number, line in enumerate(infile, 1):\n",
    "            line = line.strip()\n",
    "            if not line:\n",
    "                continue  \n",
    "            parts = line.split('\\t')\n",
    "            if len(parts) < 3:\n",
    "                print(f\"Warning: Line {line_number} in GMT file does not have enough columns. Skipping.\")\n",
    "                continue\n",
    "            pathway_name, pathway_url, *genes = parts\n",
    "            expanded_genes = []\n",
    "            for gene in genes:\n",
    "                gene = gene.strip()\n",
    "                if not gene:\n",
    "                    continue  \n",
    "                synonyms = gene_synonyms_map.get(gene, [])\n",
    "                if synonyms:\n",
    "                    expanded_gene = f\"[{gene}, \" + \", \".join(synonyms) + \"]\"\n",
    "                else:\n",
    "                    expanded_gene = f\"[{gene}]\"\n",
    "                expanded_genes.append(expanded_gene)\n",
    "            seen = set()\n",
    "            unique_genes = []\n",
    "            for gene in expanded_genes:\n",
    "                if gene not in seen:\n",
    "                    seen.add(gene)\n",
    "                    unique_genes.append(gene)\n",
    "            new_line = '\\t'.join([pathway_name, pathway_url] + unique_genes)\n",
    "            outfile.write(new_line + '\\n')\n",
    "            if line_number % 1000 == 0:\n",
    "                print(f\"Processed {line_number} lines.\")\n",
    "    print(f\"Finished processing GMT file. Output saved to '{output_path}'.\")\n",
    "\n",
    "process_gmt(input_gmt_path, output_gmt_path, gene_to_synonyms)"
   ],
   "id": "a6424487a5fbc2ae",
   "outputs": [
    {
     "name": "stdout",
     "output_type": "stream",
     "text": [
      "Loaded 41067 genes with synonyms.\n",
      "Finished processing GMT file. Output saved to './Data/biomart/wikipathways_synonyms_Homo_sapiens.gmt.gz'.\n"
     ]
    }
   ],
   "execution_count": 10
  },
  {
   "metadata": {},
   "cell_type": "code",
   "outputs": [],
   "execution_count": null,
   "source": "",
   "id": "bb62beaff35e00ef"
  }
 ],
 "metadata": {
  "kernelspec": {
   "display_name": "Python 3",
   "language": "python",
   "name": "python3"
  },
  "language_info": {
   "codemirror_mode": {
    "name": "ipython",
    "version": 2
   },
   "file_extension": ".py",
   "mimetype": "text/x-python",
   "name": "python",
   "nbconvert_exporter": "python",
   "pygments_lexer": "ipython2",
   "version": "2.7.6"
  }
 },
 "nbformat": 4,
 "nbformat_minor": 5
}

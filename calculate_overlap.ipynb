{
 "cells": [
  {
   "cell_type": "code",
   "id": "initial_id",
   "metadata": {
    "collapsed": true,
    "ExecuteTime": {
     "end_time": "2025-02-04T14:43:13.201431Z",
     "start_time": "2025-02-04T14:43:13.163591Z"
    }
   },
   "source": [
    "import os\n",
    "import re\n",
    "import glob\n",
    "\n",
    "with open('all_genes.txt', 'r', encoding='utf-8') as f:\n",
    "    gene_set = {line.strip().lower() for line in f if line.strip()}\n",
    "\n",
    "pattern = re.compile(r\"Genes involved:\\s*(.*?)(?=\\n\\s*\\n|\\n(?:Pathway Name:|\\d+\\.\\s|={5,})|\\Z)\", re.DOTALL)\n",
    "valid_gene_pattern = re.compile(r\"^[A-Za-z0-9\\-_]+$\")\n",
    "\n",
    "results = []\n",
    "files = glob.glob('./test_files/*.txt')\n",
    "\n",
    "for txt_file_path in files:\n",
    "    with open(txt_file_path, 'r', encoding='utf-8') as f:\n",
    "        text_content = f.read()\n",
    "    gene_blocks = pattern.findall(text_content)\n",
    "    all_genes_in_txt = []\n",
    "    for block in gene_blocks:\n",
    "        tokens = re.split(r\"[,\\n]\", block)\n",
    "        tokens = [re.sub(r'\\*+', '', token).strip().lower() for token in tokens if token.strip()]\n",
    "        genes = [token for token in tokens if valid_gene_pattern.match(token)]\n",
    "        all_genes_in_txt.extend(genes)\n",
    "    total_occurrences = len(all_genes_in_txt)\n",
    "    matched_occurrences = sum(1 for gene in all_genes_in_txt if gene in gene_set)\n",
    "    occurrence_percentage = (matched_occurrences / total_occurrences * 100) if total_occurrences else 0\n",
    "    unique_genes_in_txt = set(all_genes_in_txt)\n",
    "    non_matched_unique_genes = unique_genes_in_txt - gene_set\n",
    "    non_matched_unique_percentage = (len(non_matched_unique_genes) / len(unique_genes_in_txt) * 100) if unique_genes_in_txt else 0\n",
    "    results.append((os.path.basename(txt_file_path), occurrence_percentage,\n",
    "                    non_matched_unique_percentage, sorted(non_matched_unique_genes),\n",
    "                    len(unique_genes_in_txt)))\n",
    "\n",
    "results.sort(key=lambda x: x[2], reverse=False)\n",
    "\n",
    "for filename, occ_perc, non_match_perc, non_matched_genes, unique_count in results:\n",
    "    print(f\"File: {filename}\")\n",
    "    print(f\"-> {occ_perc:.2f}% of all mentions are from the gene list.\")\n",
    "    print(f\"Unique genes in file: {unique_count}\")\n",
    "    print(f\"-> {non_match_perc:.2f}% of unique genes in the file are not in the gene list.\")\n",
    "    print(\"Genes in file but NOT in gene list:\", \", \".join(non_matched_genes))\n",
    "    print()\n"
   ],
   "outputs": [
    {
     "name": "stdout",
     "output_type": "stream",
     "text": [
      "File: gpt_o3-mini-high-noref-no_scope.txt\n",
      "-> 100.00% of all mentions are from the gene list.\n",
      "Unique genes in file: 90\n",
      "-> 0.00% of unique genes in the file are not in the gene list.\n",
      "Genes in file but NOT in gene list: \n",
      "\n",
      "File: gpt_o3-mini-high-noref.txt\n",
      "-> 100.00% of all mentions are from the gene list.\n",
      "Unique genes in file: 68\n",
      "-> 0.00% of unique genes in the file are not in the gene list.\n",
      "Genes in file but NOT in gene list: \n",
      "\n"
     ]
    }
   ],
   "execution_count": 39
  },
  {
   "metadata": {},
   "cell_type": "code",
   "outputs": [],
   "execution_count": null,
   "source": "",
   "id": "f70e90463767a2fb"
  }
 ],
 "metadata": {
  "kernelspec": {
   "display_name": "Python 3",
   "language": "python",
   "name": "python3"
  },
  "language_info": {
   "codemirror_mode": {
    "name": "ipython",
    "version": 2
   },
   "file_extension": ".py",
   "mimetype": "text/x-python",
   "name": "python",
   "nbconvert_exporter": "python",
   "pygments_lexer": "ipython2",
   "version": "2.7.6"
  }
 },
 "nbformat": 4,
 "nbformat_minor": 5
}

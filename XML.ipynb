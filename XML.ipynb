{
 "cells": [
  {
   "cell_type": "code",
   "id": "initial_id",
   "metadata": {
    "collapsed": true,
    "ExecuteTime": {
     "end_time": "2024-12-06T12:18:23.680158Z",
     "start_time": "2024-12-06T12:18:23.674945Z"
    }
   },
   "source": [
    "import xml.etree.ElementTree as ET\n",
    "\n",
    "# Path to the uploaded file\n",
    "file_path = 'Hs_13q12_or_CRYL1_copy_number_variation__WP5405_20240722.gpml'\n",
    "\n",
    "# Parse the GPML file\n",
    "tree = ET.parse(file_path)\n",
    "root = tree.getroot()\n",
    "\n",
    "# Define the namespace\n",
    "namespace = {'ns': 'http://pathvisio.org/GPML/2013a'}\n",
    "\n",
    "# Parse all DataNode elements and store them in a dictionary\n",
    "nodes = {}\n",
    "for element in root.findall('.//ns:DataNode', namespace):\n",
    "    graph_id = element.attrib.get('GraphId', 'Unknown')\n",
    "    label = element.attrib.get('TextLabel', 'Unknown')\n",
    "    node_type = element.attrib.get('Type', 'Unknown')\n",
    "    nodes[graph_id] = {\"label\": label, \"type\": node_type}\n",
    "\n",
    "# Parse Interaction elements and generate natural language descriptions\n",
    "descriptions = []\n",
    "interactions = root.findall('.//ns:Interaction', namespace)\n",
    "\n",
    "for interaction in interactions:\n",
    "    # Extract points from the Interaction element\n",
    "    points = interaction.findall('./ns:Graphics/ns:Point', namespace)\n",
    "    \n",
    "    if len(points) >= 2:  # Ensure there are at least two points\n",
    "        # Get GraphRef attributes of the start and end points\n",
    "        start_ref = points[0].attrib.get('GraphRef', 'Unknown')\n",
    "        end_ref = points[-1].attrib.get('GraphRef', 'Unknown')\n",
    "\n",
    "        # Look up corresponding nodes by GraphRef\n",
    "        start_node = nodes.get(start_ref, {\"label\": \"Unknown\", \"type\": \"Unknown\"})\n",
    "        end_node = nodes.get(end_ref, {\"label\": \"Unknown\", \"type\": \"Unknown\"})\n",
    "\n",
    "        # Generate a natural language description\n",
    "        description = f\"{start_node['type']} {start_node['label']} interacts with {end_node['type']} {end_node['label']}.\"\n",
    "        descriptions.append(description)\n",
    "    else:\n",
    "        descriptions.append(\"Interaction skipped due to insufficient points.\")\n",
    "\n",
    "# Output the natural language descriptions\n",
    "for desc in descriptions:\n",
    "    print(desc)\n"
   ],
   "outputs": [
    {
     "name": "stdout",
     "output_type": "stream",
     "text": [
      "GeneProduct CRYL1 interacts with Unknown Unknown.\n",
      "Metabolite Malonate interacts with GeneProduct CRYL1.\n",
      "Metabolite L-gulonate interacts with Metabolite 3-dehydro-L-gulonate.\n",
      "Metabolite Cibacron blue interacts with GeneProduct CRYL1.\n"
     ]
    }
   ],
   "execution_count": 6
  },
  {
   "metadata": {},
   "cell_type": "code",
   "outputs": [],
   "execution_count": null,
   "source": "",
   "id": "db766e44dba9483e"
  }
 ],
 "metadata": {
  "kernelspec": {
   "display_name": "Python 3",
   "language": "python",
   "name": "python3"
  },
  "language_info": {
   "codemirror_mode": {
    "name": "ipython",
    "version": 2
   },
   "file_extension": ".py",
   "mimetype": "text/x-python",
   "name": "python",
   "nbconvert_exporter": "python",
   "pygments_lexer": "ipython2",
   "version": "2.7.6"
  }
 },
 "nbformat": 4,
 "nbformat_minor": 5
}
